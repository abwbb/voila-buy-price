{
 "cells": [
  {
   "cell_type": "code",
   "execution_count": 1,
   "id": "8ae0dd89-289e-4299-b6b4-5cf38a5eaea2",
   "metadata": {},
   "outputs": [
    {
     "name": "stdout",
     "output_type": "stream",
     "text": [
      "Requirement already satisfied: voila in c:\\users\\alistair\\anaconda3\\lib\\site-packages (0.5.8)\n",
      "Requirement already satisfied: jupyter-client<9,>=7.4.4 in c:\\users\\alistair\\anaconda3\\lib\\site-packages (from voila) (8.6.0)\n",
      "Requirement already satisfied: jupyter-core>=4.11.0 in c:\\users\\alistair\\anaconda3\\lib\\site-packages (from voila) (5.7.2)\n",
      "Requirement already satisfied: jupyter-server<3,>=1.18 in c:\\users\\alistair\\anaconda3\\lib\\site-packages (from voila) (2.14.1)\n",
      "Requirement already satisfied: jupyterlab-server<3,>=2.3.0 in c:\\users\\alistair\\anaconda3\\lib\\site-packages (from voila) (2.27.3)\n",
      "Requirement already satisfied: nbclient>=0.4.0 in c:\\users\\alistair\\anaconda3\\lib\\site-packages (from voila) (0.8.0)\n",
      "Requirement already satisfied: nbconvert<8,>=6.4.5 in c:\\users\\alistair\\anaconda3\\lib\\site-packages (from voila) (7.16.4)\n",
      "Requirement already satisfied: traitlets<6,>=5.0.3 in c:\\users\\alistair\\anaconda3\\lib\\site-packages (from voila) (5.14.3)\n",
      "Requirement already satisfied: websockets>=9.0 in c:\\users\\alistair\\anaconda3\\lib\\site-packages (from voila) (15.0)\n",
      "Requirement already satisfied: python-dateutil>=2.8.2 in c:\\users\\alistair\\anaconda3\\lib\\site-packages (from jupyter-client<9,>=7.4.4->voila) (2.9.0.post0)\n",
      "Requirement already satisfied: pyzmq>=23.0 in c:\\users\\alistair\\anaconda3\\lib\\site-packages (from jupyter-client<9,>=7.4.4->voila) (25.1.2)\n",
      "Requirement already satisfied: tornado>=6.2 in c:\\users\\alistair\\anaconda3\\lib\\site-packages (from jupyter-client<9,>=7.4.4->voila) (6.4.1)\n",
      "Requirement already satisfied: platformdirs>=2.5 in c:\\users\\alistair\\anaconda3\\lib\\site-packages (from jupyter-core>=4.11.0->voila) (3.10.0)\n",
      "Requirement already satisfied: pywin32>=300 in c:\\users\\alistair\\anaconda3\\lib\\site-packages (from jupyter-core>=4.11.0->voila) (305.1)\n",
      "Requirement already satisfied: anyio>=3.1.0 in c:\\users\\alistair\\anaconda3\\lib\\site-packages (from jupyter-server<3,>=1.18->voila) (4.2.0)\n",
      "Requirement already satisfied: argon2-cffi>=21.1 in c:\\users\\alistair\\anaconda3\\lib\\site-packages (from jupyter-server<3,>=1.18->voila) (21.3.0)\n",
      "Requirement already satisfied: jinja2>=3.0.3 in c:\\users\\alistair\\anaconda3\\lib\\site-packages (from jupyter-server<3,>=1.18->voila) (3.1.4)\n",
      "Requirement already satisfied: jupyter-events>=0.9.0 in c:\\users\\alistair\\anaconda3\\lib\\site-packages (from jupyter-server<3,>=1.18->voila) (0.10.0)\n",
      "Requirement already satisfied: jupyter-server-terminals>=0.4.4 in c:\\users\\alistair\\anaconda3\\lib\\site-packages (from jupyter-server<3,>=1.18->voila) (0.4.4)\n",
      "Requirement already satisfied: nbformat>=5.3.0 in c:\\users\\alistair\\anaconda3\\lib\\site-packages (from jupyter-server<3,>=1.18->voila) (5.10.4)\n",
      "Requirement already satisfied: overrides>=5.0 in c:\\users\\alistair\\anaconda3\\lib\\site-packages (from jupyter-server<3,>=1.18->voila) (7.4.0)\n",
      "Requirement already satisfied: packaging>=22.0 in c:\\users\\alistair\\anaconda3\\lib\\site-packages (from jupyter-server<3,>=1.18->voila) (24.1)\n",
      "Requirement already satisfied: prometheus-client>=0.9 in c:\\users\\alistair\\anaconda3\\lib\\site-packages (from jupyter-server<3,>=1.18->voila) (0.14.1)\n",
      "Requirement already satisfied: pywinpty>=2.0.1 in c:\\users\\alistair\\anaconda3\\lib\\site-packages (from jupyter-server<3,>=1.18->voila) (2.0.10)\n",
      "Requirement already satisfied: send2trash>=1.8.2 in c:\\users\\alistair\\anaconda3\\lib\\site-packages (from jupyter-server<3,>=1.18->voila) (1.8.2)\n",
      "Requirement already satisfied: terminado>=0.8.3 in c:\\users\\alistair\\anaconda3\\lib\\site-packages (from jupyter-server<3,>=1.18->voila) (0.17.1)\n",
      "Requirement already satisfied: websocket-client>=1.7 in c:\\users\\alistair\\anaconda3\\lib\\site-packages (from jupyter-server<3,>=1.18->voila) (1.8.0)\n",
      "Requirement already satisfied: babel>=2.10 in c:\\users\\alistair\\anaconda3\\lib\\site-packages (from jupyterlab-server<3,>=2.3.0->voila) (2.11.0)\n",
      "Requirement already satisfied: json5>=0.9.0 in c:\\users\\alistair\\anaconda3\\lib\\site-packages (from jupyterlab-server<3,>=2.3.0->voila) (0.9.6)\n",
      "Requirement already satisfied: jsonschema>=4.18.0 in c:\\users\\alistair\\anaconda3\\lib\\site-packages (from jupyterlab-server<3,>=2.3.0->voila) (4.23.0)\n",
      "Requirement already satisfied: requests>=2.31 in c:\\users\\alistair\\anaconda3\\lib\\site-packages (from jupyterlab-server<3,>=2.3.0->voila) (2.32.3)\n",
      "Requirement already satisfied: beautifulsoup4 in c:\\users\\alistair\\anaconda3\\lib\\site-packages (from nbconvert<8,>=6.4.5->voila) (4.12.3)\n",
      "Requirement already satisfied: bleach!=5.0.0 in c:\\users\\alistair\\anaconda3\\lib\\site-packages (from nbconvert<8,>=6.4.5->voila) (4.1.0)\n",
      "Requirement already satisfied: defusedxml in c:\\users\\alistair\\anaconda3\\lib\\site-packages (from nbconvert<8,>=6.4.5->voila) (0.7.1)\n",
      "Requirement already satisfied: jupyterlab-pygments in c:\\users\\alistair\\anaconda3\\lib\\site-packages (from nbconvert<8,>=6.4.5->voila) (0.1.2)\n",
      "Requirement already satisfied: markupsafe>=2.0 in c:\\users\\alistair\\anaconda3\\lib\\site-packages (from nbconvert<8,>=6.4.5->voila) (2.1.3)\n",
      "Requirement already satisfied: mistune<4,>=2.0.3 in c:\\users\\alistair\\anaconda3\\lib\\site-packages (from nbconvert<8,>=6.4.5->voila) (2.0.4)\n",
      "Requirement already satisfied: pandocfilters>=1.4.1 in c:\\users\\alistair\\anaconda3\\lib\\site-packages (from nbconvert<8,>=6.4.5->voila) (1.5.0)\n",
      "Requirement already satisfied: pygments>=2.4.1 in c:\\users\\alistair\\anaconda3\\lib\\site-packages (from nbconvert<8,>=6.4.5->voila) (2.15.1)\n",
      "Requirement already satisfied: tinycss2 in c:\\users\\alistair\\anaconda3\\lib\\site-packages (from nbconvert<8,>=6.4.5->voila) (1.2.1)\n",
      "Requirement already satisfied: idna>=2.8 in c:\\users\\alistair\\anaconda3\\lib\\site-packages (from anyio>=3.1.0->jupyter-server<3,>=1.18->voila) (3.7)\n",
      "Requirement already satisfied: sniffio>=1.1 in c:\\users\\alistair\\anaconda3\\lib\\site-packages (from anyio>=3.1.0->jupyter-server<3,>=1.18->voila) (1.3.0)\n",
      "Requirement already satisfied: argon2-cffi-bindings in c:\\users\\alistair\\anaconda3\\lib\\site-packages (from argon2-cffi>=21.1->jupyter-server<3,>=1.18->voila) (21.2.0)\n",
      "Requirement already satisfied: pytz>=2015.7 in c:\\users\\alistair\\anaconda3\\lib\\site-packages (from babel>=2.10->jupyterlab-server<3,>=2.3.0->voila) (2024.1)\n",
      "Requirement already satisfied: six>=1.9.0 in c:\\users\\alistair\\anaconda3\\lib\\site-packages (from bleach!=5.0.0->nbconvert<8,>=6.4.5->voila) (1.16.0)\n",
      "Requirement already satisfied: webencodings in c:\\users\\alistair\\anaconda3\\lib\\site-packages (from bleach!=5.0.0->nbconvert<8,>=6.4.5->voila) (0.5.1)\n",
      "Requirement already satisfied: attrs>=22.2.0 in c:\\users\\alistair\\anaconda3\\lib\\site-packages (from jsonschema>=4.18.0->jupyterlab-server<3,>=2.3.0->voila) (24.3.0)\n",
      "Requirement already satisfied: jsonschema-specifications>=2023.03.6 in c:\\users\\alistair\\anaconda3\\lib\\site-packages (from jsonschema>=4.18.0->jupyterlab-server<3,>=2.3.0->voila) (2023.7.1)\n",
      "Requirement already satisfied: referencing>=0.28.4 in c:\\users\\alistair\\anaconda3\\lib\\site-packages (from jsonschema>=4.18.0->jupyterlab-server<3,>=2.3.0->voila) (0.30.2)\n",
      "Requirement already satisfied: rpds-py>=0.7.1 in c:\\users\\alistair\\anaconda3\\lib\\site-packages (from jsonschema>=4.18.0->jupyterlab-server<3,>=2.3.0->voila) (0.10.6)\n",
      "Requirement already satisfied: python-json-logger>=2.0.4 in c:\\users\\alistair\\anaconda3\\lib\\site-packages (from jupyter-events>=0.9.0->jupyter-server<3,>=1.18->voila) (2.0.7)\n",
      "Requirement already satisfied: pyyaml>=5.3 in c:\\users\\alistair\\anaconda3\\lib\\site-packages (from jupyter-events>=0.9.0->jupyter-server<3,>=1.18->voila) (6.0.1)\n",
      "Requirement already satisfied: rfc3339-validator in c:\\users\\alistair\\anaconda3\\lib\\site-packages (from jupyter-events>=0.9.0->jupyter-server<3,>=1.18->voila) (0.1.4)\n",
      "Requirement already satisfied: rfc3986-validator>=0.1.1 in c:\\users\\alistair\\anaconda3\\lib\\site-packages (from jupyter-events>=0.9.0->jupyter-server<3,>=1.18->voila) (0.1.1)\n",
      "Requirement already satisfied: fastjsonschema>=2.15 in c:\\users\\alistair\\anaconda3\\lib\\site-packages (from nbformat>=5.3.0->jupyter-server<3,>=1.18->voila) (2.16.2)\n",
      "Requirement already satisfied: charset-normalizer<4,>=2 in c:\\users\\alistair\\anaconda3\\lib\\site-packages (from requests>=2.31->jupyterlab-server<3,>=2.3.0->voila) (3.3.2)\n",
      "Requirement already satisfied: urllib3<3,>=1.21.1 in c:\\users\\alistair\\anaconda3\\lib\\site-packages (from requests>=2.31->jupyterlab-server<3,>=2.3.0->voila) (2.2.3)\n",
      "Requirement already satisfied: certifi>=2017.4.17 in c:\\users\\alistair\\anaconda3\\lib\\site-packages (from requests>=2.31->jupyterlab-server<3,>=2.3.0->voila) (2025.1.31)\n",
      "Requirement already satisfied: soupsieve>1.2 in c:\\users\\alistair\\anaconda3\\lib\\site-packages (from beautifulsoup4->nbconvert<8,>=6.4.5->voila) (2.5)\n",
      "Requirement already satisfied: fqdn in c:\\users\\alistair\\anaconda3\\lib\\site-packages (from jsonschema[format-nongpl]>=4.18.0->jupyter-events>=0.9.0->jupyter-server<3,>=1.18->voila) (1.5.1)\n",
      "Requirement already satisfied: isoduration in c:\\users\\alistair\\anaconda3\\lib\\site-packages (from jsonschema[format-nongpl]>=4.18.0->jupyter-events>=0.9.0->jupyter-server<3,>=1.18->voila) (20.11.0)\n",
      "Requirement already satisfied: jsonpointer>1.13 in c:\\users\\alistair\\anaconda3\\lib\\site-packages (from jsonschema[format-nongpl]>=4.18.0->jupyter-events>=0.9.0->jupyter-server<3,>=1.18->voila) (2.1)\n",
      "Requirement already satisfied: uri-template in c:\\users\\alistair\\anaconda3\\lib\\site-packages (from jsonschema[format-nongpl]>=4.18.0->jupyter-events>=0.9.0->jupyter-server<3,>=1.18->voila) (1.3.0)\n",
      "Requirement already satisfied: webcolors>=24.6.0 in c:\\users\\alistair\\anaconda3\\lib\\site-packages (from jsonschema[format-nongpl]>=4.18.0->jupyter-events>=0.9.0->jupyter-server<3,>=1.18->voila) (24.11.1)\n",
      "Requirement already satisfied: cffi>=1.0.1 in c:\\users\\alistair\\anaconda3\\lib\\site-packages (from argon2-cffi-bindings->argon2-cffi>=21.1->jupyter-server<3,>=1.18->voila) (1.17.1)\n",
      "Requirement already satisfied: pycparser in c:\\users\\alistair\\anaconda3\\lib\\site-packages (from cffi>=1.0.1->argon2-cffi-bindings->argon2-cffi>=21.1->jupyter-server<3,>=1.18->voila) (2.21)\n",
      "Requirement already satisfied: arrow>=0.15.0 in c:\\users\\alistair\\anaconda3\\lib\\site-packages (from isoduration->jsonschema[format-nongpl]>=4.18.0->jupyter-events>=0.9.0->jupyter-server<3,>=1.18->voila) (1.2.3)\n",
      "Note: you may need to restart the kernel to use updated packages.\n"
     ]
    },
    {
     "name": "stderr",
     "output_type": "stream",
     "text": [
      "WARNING: Ignoring invalid distribution ~atplotlib (C:\\Users\\Alistair\\anaconda3\\Lib\\site-packages)\n",
      "WARNING: Ignoring invalid distribution ~atplotlib (C:\\Users\\Alistair\\anaconda3\\Lib\\site-packages)\n",
      "WARNING: Ignoring invalid distribution ~atplotlib (C:\\Users\\Alistair\\anaconda3\\Lib\\site-packages)\n"
     ]
    }
   ],
   "source": [
    "pip install voila"
   ]
  },
  {
   "cell_type": "code",
   "execution_count": 2,
   "id": "f0fbed74-d4af-4e4f-b691-43fdbf644484",
   "metadata": {},
   "outputs": [
    {
     "data": {
      "application/vnd.jupyter.widget-view+json": {
       "model_id": "d2d0c5e910b6467e90f3d5d6c58b9673",
       "version_major": 2,
       "version_minor": 0
      },
      "text/plain": [
       "VBox(children=(HBox(children=(FloatText(value=10.0, description='Buyers Fee (%)', layout=Layout(width='400px')…"
      ]
     },
     "metadata": {},
     "output_type": "display_data"
    }
   ],
   "source": [
    "\n",
    "import ipywidgets as widgets\n",
    "from IPython.display import display\n",
    "\n",
    "def calculate_price(buyers_fee, sellers_fee, sale_price, transport, profit):\n",
    "    try:\n",
    "        buyers_fee = float(buyers_fee) / 100\n",
    "        sellers_fee = float(sellers_fee) / 100\n",
    "        sale_price = float(sale_price)\n",
    "        transport = float(transport)\n",
    "        profit = float(profit)\n",
    "        \n",
    "        buy_price = ((1 - sellers_fee) * sale_price - transport - profit) / (1 + buyers_fee)\n",
    "        result_label.value = f\"Recommended Buy Price: £{buy_price:,.2f}\"\n",
    "    except ValueError:\n",
    "        result_label.value = \"Please enter valid numbers.\"\n",
    "\n",
    "# Creating widgets with properly displayed labels and full descriptions\n",
    "buyers_fee_input = widgets.FloatText(description=\"Buyers Fee (%)\", value=10, layout=widgets.Layout(width='400px'))\n",
    "sellers_fee_input = widgets.FloatText(description=\"Sellers Fee (%)\", value=5, layout=widgets.Layout(width='400px'))\n",
    "sale_price_input = widgets.FloatText(description=\"Estimated Sale Price (£)\", value=48000, layout=widgets.Layout(width='400px'))\n",
    "transport_input = widgets.FloatText(description=\"Transport Cost (£)\", value=2500, layout=widgets.Layout(width='400px'))\n",
    "profit_input = widgets.FloatText(description=\"Desired Profit (£)\", value=3000, layout=widgets.Layout(width='400px'))\n",
    "calculate_button = widgets.Button(description=\"Calculate Buy Price\", layout=widgets.Layout(width='400px'))\n",
    "result_label = widgets.Label(value=\"\", layout=widgets.Layout(width='400px'))\n",
    "\n",
    "# Ensuring full label visibility\n",
    "for widget in [buyers_fee_input, sellers_fee_input, sale_price_input, transport_input, profit_input]:\n",
    "    widget.style.description_width = 'initial'\n",
    "\n",
    "def on_calculate_clicked(b):\n",
    "    calculate_price(buyers_fee_input.value, sellers_fee_input.value, sale_price_input.value, transport_input.value, profit_input.value)\n",
    "\n",
    "calculate_button.on_click(on_calculate_clicked)\n",
    "\n",
    "display(widgets.VBox([\n",
    "    widgets.HBox([buyers_fee_input, sellers_fee_input]),\n",
    "    widgets.HBox([sale_price_input, transport_input]),\n",
    "    profit_input,\n",
    "    calculate_button,\n",
    "    result_label\n",
    "]))"
   ]
  },
  {
   "cell_type": "code",
   "execution_count": null,
   "id": "3d9a9639-97c4-40ff-915b-ac2b809d0efb",
   "metadata": {},
   "outputs": [],
   "source": []
  },
  {
   "cell_type": "code",
   "execution_count": null,
   "id": "8b7d6be8-6347-4363-b440-2c605bbccf18",
   "metadata": {},
   "outputs": [],
   "source": []
  }
 ],
 "metadata": {
  "kernelspec": {
   "display_name": "Python [conda env:base] *",
   "language": "python",
   "name": "conda-base-py"
  },
  "language_info": {
   "codemirror_mode": {
    "name": "ipython",
    "version": 3
   },
   "file_extension": ".py",
   "mimetype": "text/x-python",
   "name": "python",
   "nbconvert_exporter": "python",
   "pygments_lexer": "ipython3",
   "version": "3.12.3"
  }
 },
 "nbformat": 4,
 "nbformat_minor": 5
}
